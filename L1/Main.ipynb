{
 "cells": [
  {
   "cell_type": "code",
   "execution_count": 400,
   "metadata": {},
   "outputs": [],
   "source": [
    "from scipy.io import arff\n",
    "import pandas as pd\n",
    "import numpy as np\n",
    "import matplotlib.pyplot as plt\n",
    "import math\n",
    "import operator\n",
    "from sklearn.model_selection import StratifiedKFold"
   ]
  },
  {
   "cell_type": "code",
   "execution_count": 424,
   "metadata": {},
   "outputs": [],
   "source": [
    "data = arff.loadarff('./Data/kc2.arff.txt')\n",
    "df = pd.DataFrame(data[0])\n",
    "df['problems'] = df['problems'].apply(lambda x: str(x)[1:])\n",
    "#df['problems'] = df['problems'].map({\"'true'\": True, \"'false'\": False})\n",
    "\n",
    "distances = []\n",
    "radius = []\n",
    "\n",
    "qtd_k = [1,2,3,5,7,9,11,13,15]\n",
    "skf = StratifiedKFold(n_splits=5, random_state=None, shuffle=False)"
   ]
  },
  {
   "cell_type": "code",
   "execution_count": 425,
   "metadata": {},
   "outputs": [
    {
     "data": {
      "text/html": [
       "<div>\n",
       "<style scoped>\n",
       "    .dataframe tbody tr th:only-of-type {\n",
       "        vertical-align: middle;\n",
       "    }\n",
       "\n",
       "    .dataframe tbody tr th {\n",
       "        vertical-align: top;\n",
       "    }\n",
       "\n",
       "    .dataframe thead th {\n",
       "        text-align: right;\n",
       "    }\n",
       "</style>\n",
       "<table border=\"1\" class=\"dataframe\">\n",
       "  <thead>\n",
       "    <tr style=\"text-align: right;\">\n",
       "      <th></th>\n",
       "      <th>loc</th>\n",
       "      <th>v(g)</th>\n",
       "      <th>ev(g)</th>\n",
       "      <th>iv(g)</th>\n",
       "      <th>n</th>\n",
       "      <th>v</th>\n",
       "      <th>l</th>\n",
       "      <th>d</th>\n",
       "      <th>i</th>\n",
       "      <th>e</th>\n",
       "      <th>...</th>\n",
       "      <th>lOCode</th>\n",
       "      <th>lOComment</th>\n",
       "      <th>lOBlank</th>\n",
       "      <th>lOCodeAndComment</th>\n",
       "      <th>uniq_Op</th>\n",
       "      <th>uniq_Opnd</th>\n",
       "      <th>total_Op</th>\n",
       "      <th>total_Opnd</th>\n",
       "      <th>branchCount</th>\n",
       "      <th>problems</th>\n",
       "    </tr>\n",
       "  </thead>\n",
       "  <tbody>\n",
       "    <tr>\n",
       "      <th>0</th>\n",
       "      <td>1.1</td>\n",
       "      <td>1.4</td>\n",
       "      <td>1.4</td>\n",
       "      <td>1.4</td>\n",
       "      <td>1.3</td>\n",
       "      <td>1.30</td>\n",
       "      <td>1.30</td>\n",
       "      <td>1.30</td>\n",
       "      <td>1.30</td>\n",
       "      <td>1.30</td>\n",
       "      <td>...</td>\n",
       "      <td>2.0</td>\n",
       "      <td>2.0</td>\n",
       "      <td>2.0</td>\n",
       "      <td>2.0</td>\n",
       "      <td>1.2</td>\n",
       "      <td>1.2</td>\n",
       "      <td>1.2</td>\n",
       "      <td>1.2</td>\n",
       "      <td>1.4</td>\n",
       "      <td>'no'</td>\n",
       "    </tr>\n",
       "    <tr>\n",
       "      <th>1</th>\n",
       "      <td>1.0</td>\n",
       "      <td>1.0</td>\n",
       "      <td>1.0</td>\n",
       "      <td>1.0</td>\n",
       "      <td>1.0</td>\n",
       "      <td>1.00</td>\n",
       "      <td>1.00</td>\n",
       "      <td>1.00</td>\n",
       "      <td>1.00</td>\n",
       "      <td>1.00</td>\n",
       "      <td>...</td>\n",
       "      <td>1.0</td>\n",
       "      <td>1.0</td>\n",
       "      <td>1.0</td>\n",
       "      <td>1.0</td>\n",
       "      <td>1.0</td>\n",
       "      <td>1.0</td>\n",
       "      <td>1.0</td>\n",
       "      <td>1.0</td>\n",
       "      <td>1.0</td>\n",
       "      <td>'yes'</td>\n",
       "    </tr>\n",
       "    <tr>\n",
       "      <th>2</th>\n",
       "      <td>415.0</td>\n",
       "      <td>59.0</td>\n",
       "      <td>50.0</td>\n",
       "      <td>51.0</td>\n",
       "      <td>1159.0</td>\n",
       "      <td>8411.31</td>\n",
       "      <td>0.01</td>\n",
       "      <td>103.53</td>\n",
       "      <td>81.24</td>\n",
       "      <td>870848.58</td>\n",
       "      <td>...</td>\n",
       "      <td>359.0</td>\n",
       "      <td>35.0</td>\n",
       "      <td>9.0</td>\n",
       "      <td>10.0</td>\n",
       "      <td>47.0</td>\n",
       "      <td>106.0</td>\n",
       "      <td>692.0</td>\n",
       "      <td>467.0</td>\n",
       "      <td>106.0</td>\n",
       "      <td>'yes'</td>\n",
       "    </tr>\n",
       "    <tr>\n",
       "      <th>3</th>\n",
       "      <td>230.0</td>\n",
       "      <td>33.0</td>\n",
       "      <td>10.0</td>\n",
       "      <td>16.0</td>\n",
       "      <td>575.0</td>\n",
       "      <td>3732.82</td>\n",
       "      <td>0.03</td>\n",
       "      <td>39.82</td>\n",
       "      <td>93.74</td>\n",
       "      <td>148644.06</td>\n",
       "      <td>...</td>\n",
       "      <td>174.0</td>\n",
       "      <td>15.0</td>\n",
       "      <td>34.0</td>\n",
       "      <td>5.0</td>\n",
       "      <td>23.0</td>\n",
       "      <td>67.0</td>\n",
       "      <td>343.0</td>\n",
       "      <td>232.0</td>\n",
       "      <td>65.0</td>\n",
       "      <td>'yes'</td>\n",
       "    </tr>\n",
       "    <tr>\n",
       "      <th>4</th>\n",
       "      <td>175.0</td>\n",
       "      <td>26.0</td>\n",
       "      <td>12.0</td>\n",
       "      <td>13.0</td>\n",
       "      <td>500.0</td>\n",
       "      <td>3123.96</td>\n",
       "      <td>0.03</td>\n",
       "      <td>29.48</td>\n",
       "      <td>105.96</td>\n",
       "      <td>92103.07</td>\n",
       "      <td>...</td>\n",
       "      <td>142.0</td>\n",
       "      <td>7.0</td>\n",
       "      <td>19.0</td>\n",
       "      <td>4.0</td>\n",
       "      <td>18.0</td>\n",
       "      <td>58.0</td>\n",
       "      <td>310.0</td>\n",
       "      <td>190.0</td>\n",
       "      <td>51.0</td>\n",
       "      <td>'yes'</td>\n",
       "    </tr>\n",
       "  </tbody>\n",
       "</table>\n",
       "<p>5 rows × 22 columns</p>\n",
       "</div>"
      ],
      "text/plain": [
       "     loc  v(g)  ev(g)  iv(g)       n        v     l       d       i  \\\n",
       "0    1.1   1.4    1.4    1.4     1.3     1.30  1.30    1.30    1.30   \n",
       "1    1.0   1.0    1.0    1.0     1.0     1.00  1.00    1.00    1.00   \n",
       "2  415.0  59.0   50.0   51.0  1159.0  8411.31  0.01  103.53   81.24   \n",
       "3  230.0  33.0   10.0   16.0   575.0  3732.82  0.03   39.82   93.74   \n",
       "4  175.0  26.0   12.0   13.0   500.0  3123.96  0.03   29.48  105.96   \n",
       "\n",
       "           e    ...     lOCode  lOComment  lOBlank  lOCodeAndComment  uniq_Op  \\\n",
       "0       1.30    ...        2.0        2.0      2.0               2.0      1.2   \n",
       "1       1.00    ...        1.0        1.0      1.0               1.0      1.0   \n",
       "2  870848.58    ...      359.0       35.0      9.0              10.0     47.0   \n",
       "3  148644.06    ...      174.0       15.0     34.0               5.0     23.0   \n",
       "4   92103.07    ...      142.0        7.0     19.0               4.0     18.0   \n",
       "\n",
       "   uniq_Opnd  total_Op  total_Opnd  branchCount  problems  \n",
       "0        1.2       1.2         1.2          1.4      'no'  \n",
       "1        1.0       1.0         1.0          1.0     'yes'  \n",
       "2      106.0     692.0       467.0        106.0     'yes'  \n",
       "3       67.0     343.0       232.0         65.0     'yes'  \n",
       "4       58.0     310.0       190.0         51.0     'yes'  \n",
       "\n",
       "[5 rows x 22 columns]"
      ]
     },
     "execution_count": 425,
     "metadata": {},
     "output_type": "execute_result"
    }
   ],
   "source": [
    "df.head()"
   ]
  },
  {
   "cell_type": "code",
   "execution_count": 403,
   "metadata": {},
   "outputs": [],
   "source": [
    "def euclidian_dist(x1, x2):\n",
    "    distance = 0\n",
    "    for x in range(np.array(x1).size - 1):\n",
    "        distance += np.square(x1[x] - x2[x])\n",
    "    return np.sqrt(distance)"
   ]
  },
  {
   "cell_type": "code",
   "execution_count": 404,
   "metadata": {},
   "outputs": [],
   "source": [
    "def calc_dists(trainingSet, testInstance):\n",
    "    d = []\n",
    "    for t in range(len(trainingSet)):\n",
    "        dist = euclidian_dist(df.iloc[trainingSet[t]], df.iloc[testInstance])\n",
    "        d.append((df.iloc[trainingSet[t]], dist))\n",
    "    return d"
   ]
  },
  {
   "cell_type": "code",
   "execution_count": 405,
   "metadata": {},
   "outputs": [],
   "source": [
    "def knn(fold, i, k):\n",
    "    neighbors = []\n",
    "    classQtd = {}\n",
    "    d = distances[fold][i]\n",
    "    d.sort(key=lambda x: x[1])\n",
    "    for x in range(k):\n",
    "        neighbors.append(d[x][0])\n",
    "    for x in range(len(neighbors)):\n",
    "        class_label = neighbors[x][-1]\n",
    "        if class_label in classQtd:\n",
    "            classQtd[class_label] += 1\n",
    "        else:\n",
    "            classQtd[class_label] = 1\n",
    "    sortedVotes = sorted(classQtd.items(), key=operator.itemgetter(1), reverse=True)\n",
    "    return sortedVotes[0][0]"
   ]
  },
  {
   "cell_type": "code",
   "execution_count": 406,
   "metadata": {},
   "outputs": [],
   "source": [
    "def weight_knn(fold, i, k):\n",
    "    weight_dists = []\n",
    "    neighbors = []\n",
    "    classQtd = {}\n",
    "    d = distances[fold][i]\n",
    "    d.sort(key=lambda x: x[1])\n",
    "    for x in range(k):\n",
    "        neighbors.append(d[x][0])\n",
    "        if(d[x][1] == 0):\n",
    "            return neighbors[x][-1]\n",
    "        weight_dists.append(d[x][1])\n",
    "    weight_dists = [(1 / math.pow(d, 2)) for d in weight_dists]\n",
    "    for x in range(len(neighbors)):\n",
    "        class_label = neighbors[x][-1]\n",
    "        acc = weight_dists[x]\n",
    "        if class_label in classQtd:\n",
    "            classQtd[class_label] += acc\n",
    "        else:\n",
    "            classQtd[class_label] = acc\n",
    "    sortedVotes = sorted(classQtd.items(), key=operator.itemgetter(1), reverse=True)\n",
    "    return sortedVotes[0][0]"
   ]
  },
  {
   "cell_type": "code",
   "execution_count": 407,
   "metadata": {},
   "outputs": [],
   "source": [
    "def adaptive_rule(trainingSet):\n",
    "    radius = []\n",
    "    qtd = range(len(trainingSet))\n",
    "    for i in qtd:\n",
    "        aux = []\n",
    "        for j in qtd:\n",
    "            if(df.iloc[trainingSet[i]][-1] != df.iloc[trainingSet[j]][-1]):\n",
    "                dist = euclidian_dist(df.iloc[trainingSet[i]], df.iloc[trainingSet[j]]) - 0.00000000001\n",
    "                if(dist >= 0):\n",
    "                    aux.append(dist)\n",
    "        radius.append(min(aux))\n",
    "    return radius"
   ]
  },
  {
   "cell_type": "code",
   "execution_count": 408,
   "metadata": {},
   "outputs": [],
   "source": [
    "def adaptive_knn(fold, t, k):\n",
    "    neighbors = []\n",
    "    dists = []\n",
    "    classQtd = {}\n",
    "    d = distances[fold][t]\n",
    "    for i in range(len(d)):\n",
    "        aux = d[i][1] / radius[fold][i]\n",
    "        dists.append((d[i][0], aux))\n",
    "    dists.sort(key=lambda x: x[1])\n",
    "    for x in range(k):\n",
    "        neighbors.append(dists[x][0])\n",
    "    for x in range(len(neighbors)):\n",
    "        class_label = neighbors[x][-1]\n",
    "        if class_label in classQtd:\n",
    "            classQtd[class_label] += 1\n",
    "        else:\n",
    "            classQtd[class_label] = 1\n",
    "    sortedVotes = sorted(classQtd.items(), key=operator.itemgetter(1), reverse=True)\n",
    "    return sortedVotes[0][0]"
   ]
  },
  {
   "cell_type": "code",
   "execution_count": 409,
   "metadata": {},
   "outputs": [],
   "source": [
    "def getAccuracy(testSet, predictions):\n",
    "    correct = 0\n",
    "    for x in range(len(testSet)):\n",
    "        if testSet.iloc[x][-1] == predictions[x]:\n",
    "            correct += 1\n",
    "    return correct / float(len(testSet))"
   ]
  },
  {
   "cell_type": "code",
   "execution_count": 410,
   "metadata": {},
   "outputs": [],
   "source": [
    "import time\n",
    "def calc_knn(knn_type):\n",
    "    accuracy = []\n",
    "    for k in qtd_k:\n",
    "        acc = 0\n",
    "        cont = 0\n",
    "        start = time.time()\n",
    "        for train_index, test_index in skf.split(df.iloc[:, :-1], df.iloc[:, -1]):\n",
    "            predictions = []\n",
    "            for i in range(len(test_index)):\n",
    "                result = knn_type(cont, i, k)\n",
    "                predictions.append(result)\n",
    "            acc += getAccuracy(df.iloc[test_index], predictions)\n",
    "            cont += 1\n",
    "        accuracy.append(acc / 5)\n",
    "        delay = time.time() - start\n",
    "        print('K: %d' % k)\n",
    "        print(' - Accuracy: %f' % (acc / 5))\n",
    "        print(' - Time: %fs' % delay)\n",
    "    return accuracy"
   ]
  },
  {
   "cell_type": "code",
   "execution_count": 426,
   "metadata": {},
   "outputs": [],
   "source": [
    "#Necessário executar este bloco primeiro, para ser feito os cálculos das distâncias e raios. Foi feito dessa forma\n",
    "    #para evitar a execução deste bloco para cada k.\n",
    "begin = time.time()\n",
    "for train_index, test_index in skf.split(df.iloc[:, :-1], df.iloc[:, -1]):\n",
    "    d = []\n",
    "    for i in range(len(test_index)):\n",
    "        d.append(calc_dists(train_index, test_index[i]))\n",
    "    distances.append(d)\n",
    "    radius.append(adaptive_rule(train_index))\n",
    "end = time.time()"
   ]
  },
  {
   "cell_type": "code",
   "execution_count": 427,
   "metadata": {},
   "outputs": [
    {
     "name": "stdout",
     "output_type": "stream",
     "text": [
      "Time: 12.331034 min\n"
     ]
    }
   ],
   "source": [
    "timer = end - begin\n",
    "print('Time: %f min' % (timer / 60))"
   ]
  },
  {
   "cell_type": "code",
   "execution_count": 428,
   "metadata": {},
   "outputs": [
    {
     "name": "stdout",
     "output_type": "stream",
     "text": [
      "K: 1\n",
      " - Accuracy: 0.739432\n",
      " - Time: 0.193504s\n",
      "K: 2\n",
      " - Accuracy: 0.739432\n",
      " - Time: 0.179860s\n",
      "K: 3\n",
      " - Accuracy: 0.781538\n",
      " - Time: 0.158135s\n",
      "K: 5\n",
      " - Accuracy: 0.806227\n",
      " - Time: 0.154270s\n",
      "K: 7\n",
      " - Accuracy: 0.815861\n",
      " - Time: 0.211977s\n",
      "K: 9\n",
      " - Accuracy: 0.821575\n",
      " - Time: 0.256214s\n",
      "K: 11\n",
      " - Accuracy: 0.821612\n",
      " - Time: 0.222378s\n",
      "K: 13\n",
      " - Accuracy: 0.806245\n",
      " - Time: 0.191583s\n",
      "K: 15\n",
      " - Accuracy: 0.806264\n",
      " - Time: 0.257909s\n"
     ]
    },
    {
     "data": {
      "text/plain": [
       "[<matplotlib.lines.Line2D at 0x1a32f654e0>]"
      ]
     },
     "execution_count": 428,
     "metadata": {},
     "output_type": "execute_result"
    },
    {
     "data": {
      "image/png": "[encoded data removed]",
      "text/plain": [
       "<Figure size 432x288 with 1 Axes>"
      ]
     },
     "metadata": {
      "needs_background": "light"
     },
     "output_type": "display_data"
    }
   ],
   "source": [
    "accuracy = calc_knn(lambda train, test, k: knn(train, test, k))\n",
    "plt.plot(qtd_k, accuracy)"
   ]
  },
  {
   "cell_type": "code",
   "execution_count": 429,
   "metadata": {},
   "outputs": [
    {
     "name": "stdout",
     "output_type": "stream",
     "text": [
      "K: 1\n",
      " - Accuracy: 0.739432\n",
      " - Time: 0.160957s\n",
      "K: 2\n",
      " - Accuracy: 0.739432\n",
      " - Time: 0.132934s\n",
      "K: 3\n",
      " - Accuracy: 0.750879\n",
      " - Time: 0.154098s\n",
      "K: 5\n",
      " - Accuracy: 0.756630\n",
      " - Time: 0.156787s\n",
      "K: 7\n",
      " - Accuracy: 0.758535\n",
      " - Time: 0.202786s\n",
      "K: 9\n",
      " - Accuracy: 0.762344\n",
      " - Time: 0.245975s\n",
      "K: 11\n",
      " - Accuracy: 0.764267\n",
      " - Time: 0.225399s\n",
      "K: 13\n",
      " - Accuracy: 0.762344\n",
      " - Time: 0.205394s\n",
      "K: 15\n",
      " - Accuracy: 0.764249\n",
      " - Time: 0.240888s\n"
     ]
    },
    {
     "data": {
      "text/plain": [
       "[<matplotlib.lines.Line2D at 0x1a32f7f2b0>]"
      ]
     },
     "execution_count": 429,
     "metadata": {},
     "output_type": "execute_result"
    },
    {
     "data": {
      "image/png": "[encoded data removed]",
      "text/plain": [
       "<Figure size 432x288 with 1 Axes>"
      ]
     },
     "metadata": {
      "needs_background": "light"
     },
     "output_type": "display_data"
    }
   ],
   "source": [
    "accuracy_w = calc_knn(lambda train, test, k: weight_knn(train, test, k))\n",
    "plt.plot(qtd_k, accuracy_w)"
   ]
  },
  {
   "cell_type": "code",
   "execution_count": 430,
   "metadata": {},
   "outputs": [
    {
     "name": "stdout",
     "output_type": "stream",
     "text": [
      "K: 1\n",
      " - Accuracy: 0.735623\n",
      " - Time: 0.274353s\n",
      "K: 2\n",
      " - Accuracy: 0.735623\n",
      " - Time: 0.252986s\n",
      "K: 3\n",
      " - Accuracy: 0.760586\n",
      " - Time: 0.333337s\n",
      "K: 5\n",
      " - Accuracy: 0.777766\n",
      " - Time: 0.299307s\n",
      "K: 7\n",
      " - Accuracy: 0.772015\n",
      " - Time: 0.287083s\n",
      "K: 9\n",
      " - Accuracy: 0.783498\n",
      " - Time: 0.294076s\n",
      "K: 11\n",
      " - Accuracy: 0.785421\n",
      " - Time: 0.386368s\n",
      "K: 13\n",
      " - Accuracy: 0.793114\n",
      " - Time: 0.330806s\n",
      "K: 15\n",
      " - Accuracy: 0.793114\n",
      " - Time: 0.400568s\n"
     ]
    },
    {
     "data": {
      "text/plain": [
       "[<matplotlib.lines.Line2D at 0x1a3312f4e0>]"
      ]
     },
     "execution_count": 430,
     "metadata": {},
     "output_type": "execute_result"
    },
    {
     "data": {
      "image/png": "[encoded data removed]",
      "text/plain": [
       "<Figure size 432x288 with 1 Axes>"
      ]
     },
     "metadata": {
      "needs_background": "light"
     },
     "output_type": "display_data"
    }
   ],
   "source": [
    "accuracy_adap = calc_knn(lambda fold, i, k: adaptive_knn(fold, i, k))\n",
    "plt.plot(qtd_k, accuracy_adap)"
   ]
  },
  {
   "cell_type": "code",
   "execution_count": 431,
   "metadata": {},
   "outputs": [
    {
     "name": "stdout",
     "output_type": "stream",
     "text": [
      "0.7931318681318681\n",
      "0.7553459503459503\n",
      "0.7707509157509158\n"
     ]
    }
   ],
   "source": [
    "print(np.mean(accuracy))\n",
    "print(np.mean(accuracy_w))\n",
    "print(np.mean(accuracy_adap))"
   ]
  },
  {
   "cell_type": "code",
   "execution_count": 433,
   "metadata": {},
   "outputs": [
    {
     "name": "stdout",
     "output_type": "stream",
     "text": [
      "0.03082987100635507\n",
      "0.009399026956833199\n",
      "0.021081835156471895\n"
     ]
    }
   ],
   "source": [
    "print(np.std(accuracy))\n",
    "print(np.std(accuracy_w))\n",
    "print(np.std(accuracy_adap))"
   ]
  },
  {
   "cell_type": "code",
   "execution_count": null,
   "metadata": {},
   "outputs": [],
   "source": []
  }
 ],
 "metadata": {
  "kernelspec": {
   "display_name": "Python 3",
   "language": "python",
   "name": "python3"
  },
  "language_info": {
   "codemirror_mode": {
    "name": "ipython",
    "version": 3
   },
   "file_extension": ".py",
   "mimetype": "text/x-python",
   "name": "python",
   "nbconvert_exporter": "python",
   "pygments_lexer": "ipython3",
   "version": "3.7.1"
  }
 },
 "nbformat": 4,
 "nbformat_minor": 2
}
