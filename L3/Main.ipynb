{
 "cells": [
  {
   "cell_type": "code",
   "execution_count": 46,
   "metadata": {},
   "outputs": [],
   "source": [
    "from scipy.io import arff\n",
    "import pandas as pd\n",
    "import numpy as np\n",
    "from sklearn import preprocessing\n",
    "import math\n",
    "from copy import deepcopy"
   ]
  },
  {
   "cell_type": "code",
   "execution_count": 2,
   "metadata": {},
   "outputs": [
    {
     "data": {
      "text/plain": [
       "False    1783\n",
       "True      326\n",
       "Name: defects, dtype: int64"
      ]
     },
     "execution_count": 2,
     "metadata": {},
     "output_type": "execute_result"
    }
   ],
   "source": [
    "data = arff.loadarff('./Data/kc1.arff.txt')\n",
    "df = pd.DataFrame(data[0])\n",
    "df['defects'] = df['defects'].apply(lambda x: str(x)[1:]) #removing 'b' from classes\n",
    "df['defects'] = df['defects'].map({\"'true'\": True, \"'false'\": False})\n",
    "df.defects.value_counts()"
   ]
  },
  {
   "cell_type": "code",
   "execution_count": 169,
   "metadata": {},
   "outputs": [],
   "source": [
    "from sklearn.model_selection import StratifiedKFold\n",
    "data_set = df[df.defects == False]\n",
    "Y = data_set.iloc[:, -1]\n",
    "data_set = data_set.iloc[:, :-1]\n",
    "data_set = np.array(data_set.values)\n",
    "skf = StratifiedKFold(n_splits=2, shuffle=True, random_state=1)\n",
    "train_index, test_index = skf.split(data_set, Y)"
   ]
  },
  {
   "cell_type": "code",
   "execution_count": 170,
   "metadata": {},
   "outputs": [],
   "source": [
    "train_set = data_set[train_index[0]]\n",
    "test_set = data_set[test_index[0]]"
   ]
  },
  {
   "cell_type": "code",
   "execution_count": 171,
   "metadata": {},
   "outputs": [],
   "source": [
    "def get_init_centers(k, n_instances):\n",
    "    init_ids = []\n",
    "    while len(init_ids) < k:\n",
    "        index = np.random.randint(0, n_instances)\n",
    "        if not index in init_ids:\n",
    "            init_ids.append(index)\n",
    "    return init_ids\n",
    "\n",
    "def calc_distance(x, y):\n",
    "    return np.sqrt(np.sum((x - y)**2))\n",
    "\n",
    "def get_cost(X, centers_id):\n",
    "    dists = np.zeros((len(X), len(centers_id)))\n",
    "    for j in range(len(centers_id)):\n",
    "        center = X[centers_id[j]]\n",
    "        for i in range(len(X)):\n",
    "            if i != centers_id[j]:\n",
    "                dists[i, j] = calc_distance(X[i], center)\n",
    "    mask = np.argmin(dists, axis=1)\n",
    "    members = np.zeros(len(X))\n",
    "    costs = np.zeros(len(centers_id))\n",
    "    for i in range(len(centers_id)):\n",
    "        mem_id = np.where(mask==i)\n",
    "        members[mem_id] = i\n",
    "        costs[i] = np.sum(dists[mem_id, i])\n",
    "    return members, costs, np.sum(costs), dists"
   ]
  },
  {
   "cell_type": "code",
   "execution_count": 191,
   "metadata": {},
   "outputs": [],
   "source": [
    "def kmedoids(X, n_clusters):\n",
    "    n_instances, n_features = X.shape\n",
    "    centers = get_init_centers(n_clusters, n_instances)\n",
    "    members, costs, total_cost, dists = get_cost(X, centers)\n",
    "    count, SWAPED = 0, True\n",
    "    while count < 1000 and SWAPED:\n",
    "        SWAPED = False\n",
    "        for i in range(n_instances):\n",
    "            if not i in centers:\n",
    "                for j in range(len(centers)):\n",
    "                    centers_ = deepcopy(centers)\n",
    "                    centers_[j] = i\n",
    "                    members_, costs_, total_cost_, dists_ = get_cost(X, centers_)\n",
    "                    if total_cost_ - total_cost < 0:\n",
    "                        members, costs, total_cost, dists = members_, costs_, total_cost_, dists_\n",
    "                        centers = centers_\n",
    "                        SWAPED = True\n",
    "        count += 1\n",
    "    return centers, members, costs, total_cost, dists"
   ]
  },
  {
   "cell_type": "code",
   "execution_count": null,
   "metadata": {},
   "outputs": [],
   "source": [
    "centers, members, costs, total_cost, dists = kmedoids(train_set, 1)"
   ]
  },
  {
   "cell_type": "code",
   "execution_count": null,
   "metadata": {},
   "outputs": [],
   "source": []
  }
 ],
 "metadata": {
  "kernelspec": {
   "display_name": "Python 3",
   "language": "python",
   "name": "python3"
  },
  "language_info": {
   "codemirror_mode": {
    "name": "ipython",
    "version": 3
   },
   "file_extension": ".py",
   "mimetype": "text/x-python",
   "name": "python",
   "nbconvert_exporter": "python",
   "pygments_lexer": "ipython3",
   "version": "3.7.1"
  }
 },
 "nbformat": 4,
 "nbformat_minor": 2
}
