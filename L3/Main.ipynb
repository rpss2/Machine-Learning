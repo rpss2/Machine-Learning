{
 "cells": [
  {
   "cell_type": "code",
   "execution_count": 814,
   "metadata": {},
   "outputs": [],
   "source": [
    "from scipy.io import arff\n",
    "import pandas as pd\n",
    "import numpy as np\n",
    "import math\n",
    "import random\n",
    "from copy import deepcopy\n",
    "from sklearn import preprocessing\n",
    "from sklearn.metrics.pairwise import pairwise_distances\n",
    "from sklearn.metrics import confusion_matrix\n",
    "from sklearn.metrics import precision_recall_fscore_support\n",
    "from sklearn.model_selection import train_test_split"
   ]
  },
  {
   "cell_type": "code",
   "execution_count": 823,
   "metadata": {},
   "outputs": [
    {
     "data": {
      "text/plain": [
       "False    1783\n",
       "True      326\n",
       "Name: defects, dtype: int64"
      ]
     },
     "execution_count": 823,
     "metadata": {},
     "output_type": "execute_result"
    }
   ],
   "source": [
    "data = arff.loadarff('./Data/kc1.arff.txt')\n",
    "df = pd.DataFrame(data[0])\n",
    "df['defects'] = df['defects'].apply(lambda x: str(x)[1:]) #removing 'b' from classes\n",
    "df['defects'] = df['defects'].map({\"'true'\": True, \"'false'\": False})\n",
    "df.defects.value_counts()"
   ]
  },
  {
   "cell_type": "code",
   "execution_count": 824,
   "metadata": {},
   "outputs": [
    {
     "name": "stderr",
     "output_type": "stream",
     "text": [
      "/anaconda3/lib/python3.7/site-packages/ipykernel_launcher.py:8: SettingWithCopyWarning: \n",
      "A value is trying to be set on a copy of a slice from a DataFrame.\n",
      "Try using .loc[row_indexer,col_indexer] = value instead\n",
      "\n",
      "See the caveats in the documentation: http://pandas.pydata.org/pandas-docs/stable/indexing.html#indexing-view-versus-copy\n",
      "  \n"
     ]
    }
   ],
   "source": [
    "data_set = df[df.defects == False]\n",
    "data_set = data_set.iloc[:, :-1]\n",
    "Y_f = data_set.iloc[:, -1]\n",
    "X_train, X_test, labels_train, labels_test = train_test_split(data_set, Y_f, test_size=0.25, random_state=42)\n",
    "X_train = np.array(X_train.values)\n",
    "bugs = df[df.defects == True]\n",
    "Y_t = bugs.iloc[:, -1]\n",
    "X_test['defects'] = False"
   ]
  },
  {
   "cell_type": "code",
   "execution_count": 825,
   "metadata": {},
   "outputs": [],
   "source": [
    "dfs = pd.concat([X_test, bugs])\n",
    "dfs = dfs.sample(frac=1)"
   ]
  },
  {
   "cell_type": "code",
   "execution_count": 826,
   "metadata": {},
   "outputs": [],
   "source": [
    "def get_init_centers(k, n_instances):\n",
    "    init_ids = []\n",
    "    while len(init_ids) < k:\n",
    "        index = np.random.randint(0, n_instances)\n",
    "        if not index in init_ids:\n",
    "            init_ids.append(index)\n",
    "    return init_ids\n",
    "\n",
    "def calc_distance(x, y):\n",
    "    return np.sqrt(np.sum((x - y)**2))\n",
    "\n",
    "def get_cost(X, centers_id):\n",
    "    dists = np.zeros((len(X), len(centers_id)))\n",
    "    for j in range(len(centers_id)):\n",
    "        center = X[centers_id[j]]\n",
    "        for i in range(len(X)):\n",
    "            if i != centers_id[j]:\n",
    "                dists[i, j] = calc_distance(X[i], center)\n",
    "    mask = np.argmin(dists, axis=1)\n",
    "    members = np.zeros(len(X))\n",
    "    costs = np.zeros(len(centers_id))\n",
    "    for i in range(len(centers_id)):\n",
    "        mem_id = np.where(mask==i)\n",
    "        members[mem_id] = i\n",
    "        costs[i] = np.sum(dists[mem_id, i])\n",
    "    return members, costs, np.sum(costs), dists"
   ]
  },
  {
   "cell_type": "code",
   "execution_count": 827,
   "metadata": {},
   "outputs": [],
   "source": [
    "def kmedoids(X, n_clusters):\n",
    "    n_instances, n_features = X.shape\n",
    "    centers = get_init_centers(n_clusters, n_instances)\n",
    "    members, costs, total_cost, dists = get_cost(X, centers)\n",
    "    count, SWAPED = 0, True\n",
    "    while count < 1000 and SWAPED:\n",
    "        SWAPED = False\n",
    "        for i in range(n_instances):\n",
    "            if not i in centers:\n",
    "                for j in range(len(centers)):\n",
    "                    centers_ = deepcopy(centers)\n",
    "                    centers_[j] = i\n",
    "                    members_, costs_, total_cost_, dists_ = get_cost(X, centers_)\n",
    "                    if total_cost_ - total_cost < 0:\n",
    "                        members, costs, total_cost, dists = members_, costs_, total_cost_, dists_\n",
    "                        centers = centers_\n",
    "                        SWAPED = True\n",
    "        count += 1\n",
    "    return centers, members, costs, total_cost, dists"
   ]
  },
  {
   "cell_type": "code",
   "execution_count": 828,
   "metadata": {},
   "outputs": [],
   "source": [
    "centers, members, costs, total_cost, dists = kmedoids(X_train, 1)\n",
    "\n",
    "D = pairwise_distances(X_train, metric='euclidean')\n",
    "centers_distance = D[centers][0]\n",
    "threshold = np.percentile(centers_distance, 50)\n",
    "\n",
    "predictions = []\n",
    "classes = np.array(dfs.iloc[:, -1].values)\n",
    "dfs_np = dfs.iloc[:, :-1]\n",
    "dfs_np = np.array(dfs_np.values)\n",
    "\n",
    "for i in range(len(dfs_np)):\n",
    "    result = calc_distance(X_train[centers][0], dfs_np[i]) > threshold\n",
    "    predictions.append(result)"
   ]
  },
  {
   "cell_type": "code",
   "execution_count": 831,
   "metadata": {},
   "outputs": [
    {
     "data": {
      "text/plain": [
       "(212, 234, 37, 289)"
      ]
     },
     "execution_count": 831,
     "metadata": {},
     "output_type": "execute_result"
    }
   ],
   "source": [
    "tn, fp, fn, tp = confusion_matrix(classes, predictions).ravel()\n",
    "(tn, fp, fn, tp)"
   ]
  },
  {
   "cell_type": "code",
   "execution_count": 832,
   "metadata": {},
   "outputs": [
    {
     "data": {
      "text/plain": [
       "(array([0.85140562, 0.55258126]),\n",
       " array([0.47533632, 0.88650307]),\n",
       " array([0.61007194, 0.68080094]),\n",
       " array([446, 326]))"
      ]
     },
     "execution_count": 832,
     "metadata": {},
     "output_type": "execute_result"
    }
   ],
   "source": [
    "precision_recall_fscore_support(classes, predictions, average=None)"
   ]
  },
  {
   "cell_type": "code",
   "execution_count": null,
   "metadata": {},
   "outputs": [],
   "source": []
  }
 ],
 "metadata": {
  "kernelspec": {
   "display_name": "Python 3",
   "language": "python",
   "name": "python3"
  },
  "language_info": {
   "codemirror_mode": {
    "name": "ipython",
    "version": 3
   },
   "file_extension": ".py",
   "mimetype": "text/x-python",
   "name": "python",
   "nbconvert_exporter": "python",
   "pygments_lexer": "ipython3",
   "version": "3.7.1"
  }
 },
 "nbformat": 4,
 "nbformat_minor": 2
}
